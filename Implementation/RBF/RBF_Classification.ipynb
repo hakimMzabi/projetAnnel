{
 "cells": [
  {
   "cell_type": "code",
   "execution_count": 1,
   "metadata": {},
   "outputs": [],
   "source": [
    "import RBF\n",
    "import matplotlib.lines as mlines\n",
    "import matplotlib.pyplot as plt\n",
    "import numpy as np\n",
    "import math"
   ]
  },
  {
   "cell_type": "code",
   "execution_count": 2,
   "metadata": {},
   "outputs": [
    {
     "name": "stdout",
     "output_type": "stream",
     "text": [
      "[0.1394361388361155, 0.07239530999631072, 0.6367647414443595, 0.6005941294341528, 0.5881842512001254, 0.4410188346878453, 0.6242752279980106, 0.94648162065569]\n",
      "[0.5006913208727736, 0.38990333917414843, 0.7070741329218355, 0.43520798734454647]\n"
     ]
    }
   ],
   "source": [
    "X = list(np.random.rand(4,2).flatten())\n",
    "Y = list(np.random.rand(4,1).flatten())\n",
    "\n",
    "print(X)\n",
    "print(Y)"
   ]
  },
  {
   "cell_type": "code",
   "execution_count": 3,
   "metadata": {},
   "outputs": [
    {
     "name": "stdout",
     "output_type": "stream",
     "text": [
      "0.5006913208727736\n"
     ]
    }
   ],
   "source": [
    "inputCountPerSample = 4\n",
    "sampleCount = 2\n",
    "model = RBF.naive_rbf_train(X, Y, inputCountPerSample, sampleCount, 100)\n",
    "print(RBF.naive_rbf_regression_predict(model, X[:2]))"
   ]
  },
  {
   "cell_type": "markdown",
   "metadata": {},
   "source": [
    "# Predict simple classification"
   ]
  },
  {
   "cell_type": "markdown",
   "metadata": {},
   "source": [
    "## High Gamma"
   ]
  },
  {
   "cell_type": "code",
   "execution_count": 4,
   "metadata": {},
   "outputs": [],
   "source": [
    "X = np.array([\n",
    "    [0,0],\n",
    "    [1,1],\n",
    "    [1,0],\n",
    "    [0,1],\n",
    "    [0.5,0.5]\n",
    "])\n",
    "Y = np.array([-1,-1,-1,-1,1])\n",
    "gamma = 100\n",
    "inputCountPerSample = 5\n",
    "sampleCount = 2"
   ]
  },
  {
   "cell_type": "code",
   "execution_count": 5,
   "metadata": {},
   "outputs": [],
   "source": [
    "rbfModel = RBF.naive_rbf_train(X.flatten(),Y.flatten(),inputCountPerSample,sampleCount,gamma)"
   ]
  },
  {
   "cell_type": "code",
   "execution_count": 6,
   "metadata": {},
   "outputs": [],
   "source": [
    "XToPredict = [[i / 100.0, j / 100.0] for i in range(0,100) for j in range(0, 100)]\n",
    "predict_array = []\n",
    "count = 0\n",
    "for r in XToPredict:\n",
    "    res = RBF.naive_rbf_classification_predict(rbfModel, XToPredict[count])\n",
    "    predict_array.append(res)\n",
    "    count += 1"
   ]
  },
  {
   "cell_type": "code",
   "execution_count": 7,
   "metadata": {},
   "outputs": [],
   "source": [
    "XToPlotRed = []\n",
    "XToPlotBlue = []\n",
    "for i in range(len(predict_array)):\n",
    "    if predict_array[i] <= 0:\n",
    "        XToPlotRed.append(XToPredict[i])\n",
    "    else:\n",
    "        XToPlotBlue.append(XToPredict[i])\n",
    "XToPlotRed = np.array(XToPlotRed)\n",
    "XToPlotBlue = np.array(XToPlotBlue)"
   ]
  },
  {
   "cell_type": "code",
   "execution_count": 8,
   "metadata": {},
   "outputs": [
    {
     "data": {
      "image/png": "[encoded data removed]",
      "text/plain": [
       "<Figure size 432x288 with 1 Axes>"
      ]
     },
     "metadata": {
      "needs_background": "light"
     },
     "output_type": "display_data"
    },
    {
     "data": {
      "text/plain": [
       "<Figure size 432x288 with 0 Axes>"
      ]
     },
     "metadata": {},
     "output_type": "display_data"
    }
   ],
   "source": [
    "plt.scatter(XToPlotBlue[:,0],XToPlotBlue[:,1], color='lightblue')\n",
    "plt.scatter(XToPlotRed[:,0],XToPlotRed[:,1], color='tomato')\n",
    "plt.scatter(X[4, 1], X[4, 1], color='blue')\n",
    "plt.scatter(X[0:4,0], X[0:4,1], color='red')\n",
    "plt.show()\n",
    "plt.clf()"
   ]
  },
  {
   "cell_type": "markdown",
   "metadata": {},
   "source": [
    "## Low gamma"
   ]
  },
  {
   "cell_type": "code",
   "execution_count": 9,
   "metadata": {},
   "outputs": [],
   "source": [
    "X = np.array([\n",
    "    [0,0],\n",
    "    [1,1],\n",
    "    [1,0],\n",
    "    [0,1],\n",
    "    [0.5,0.5]\n",
    "])\n",
    "Y = np.array([-1,-1,-1,-1,1])\n",
    "gamma = 1\n",
    "inputCountPerSample = 5\n",
    "sampleCount = 2"
   ]
  },
  {
   "cell_type": "code",
   "execution_count": 10,
   "metadata": {},
   "outputs": [],
   "source": [
    "rbfModel = RBF.naive_rbf_train(X.flatten(),Y.flatten(),inputCountPerSample,sampleCount,gamma)"
   ]
  },
  {
   "cell_type": "code",
   "execution_count": 11,
   "metadata": {},
   "outputs": [],
   "source": [
    "XToPredict = [[i / 100.0, j / 100.0] for i in range(0,100) for j in range(0, 100)]\n",
    "predict_array = []\n",
    "count = 0\n",
    "for r in XToPredict:\n",
    "    res = RBF.naive_rbf_classification_predict(rbfModel, XToPredict[count])\n",
    "    predict_array.append(res)\n",
    "    count += 1"
   ]
  },
  {
   "cell_type": "code",
   "execution_count": 12,
   "metadata": {},
   "outputs": [],
   "source": [
    "XToPlotRed = []\n",
    "XToPlotBlue = []\n",
    "for i in range(len(predict_array)):\n",
    "    if predict_array[i] <= 0:\n",
    "        XToPlotRed.append(XToPredict[i])\n",
    "    else:\n",
    "        XToPlotBlue.append(XToPredict[i])\n",
    "XToPlotRed = np.array(XToPlotRed)\n",
    "XToPlotBlue = np.array(XToPlotBlue)"
   ]
  },
  {
   "cell_type": "code",
   "execution_count": 13,
   "metadata": {},
   "outputs": [
    {
     "data": {
      "image/png": "[encoded data removed]",
      "text/plain": [
       "<Figure size 432x288 with 1 Axes>"
      ]
     },
     "metadata": {
      "needs_background": "light"
     },
     "output_type": "display_data"
    },
    {
     "data": {
      "text/plain": [
       "<Figure size 432x288 with 0 Axes>"
      ]
     },
     "metadata": {},
     "output_type": "display_data"
    }
   ],
   "source": [
    "plt.scatter(XToPlotBlue[:,0],XToPlotBlue[:,1], color='lightblue')\n",
    "plt.scatter(XToPlotRed[:,0],XToPlotRed[:,1], color='tomato')\n",
    "plt.scatter(X[4, 1], X[4, 1], color='blue')\n",
    "plt.scatter(X[0:4,0], X[0:4,1], color='red')\n",
    "plt.show()\n",
    "plt.clf()"
   ]
  },
  {
   "cell_type": "markdown",
   "metadata": {},
   "source": [
    "# Linear Multiple"
   ]
  },
  {
   "cell_type": "markdown",
   "metadata": {},
   "source": [
    "## High gamma"
   ]
  },
  {
   "cell_type": "code",
   "execution_count": 14,
   "metadata": {},
   "outputs": [
    {
     "data": {
      "image/png": "[encoded data removed]",
      "text/plain": [
       "<Figure size 432x288 with 1 Axes>"
      ]
     },
     "metadata": {
      "needs_background": "light"
     },
     "output_type": "display_data"
    },
    {
     "data": {
      "text/plain": [
       "<Figure size 432x288 with 0 Axes>"
      ]
     },
     "metadata": {},
     "output_type": "display_data"
    }
   ],
   "source": [
    "X = np.concatenate([np.random.random((50, 2)) * 0.9 + np.array([1, 1]), np.random.random((50,2)) * 0.9 + np.array([2, 2])])\n",
    "Y = np.concatenate([np.ones((50, 1)), np.ones((50, 1)) * -1.0])\n",
    "\n",
    "inputCountPerSample = 100\n",
    "sampleCount = 2\n",
    "gamma = 900\n",
    "\n",
    "rbfModel = RBF.naive_rbf_train(X.flatten(),Y.flatten(),inputCountPerSample,sampleCount,gamma)\n",
    "\n",
    "XToPredict = [[i / 100.0, j / 100.0]for i in range(0, 300) for j in range(0, 300)]\n",
    "YPredicted = [RBF.naive_rbf_classification_predict(rbfModel, x) for x in XToPredict]\n",
    "\n",
    "def get(i, l):\n",
    "    return [z[i] for z in l]\n",
    "\n",
    "yellow = []\n",
    "purple = []\n",
    "\n",
    "for i, val in enumerate(YPredicted):\n",
    "    if YPredicted[i] >= 0:\n",
    "        purple.append(XToPredict[i])\n",
    "    else:\n",
    "        yellow.append(XToPredict[i])\n",
    "        \n",
    "plt.scatter(\n",
    "    get(0, yellow),\n",
    "    get(1, yellow),\n",
    "    color=\"lightblue\"\n",
    ")\n",
    "plt.scatter(\n",
    "    get(0, purple),\n",
    "    get(1, purple),\n",
    "    color=\"tomato\"\n",
    ")\n",
    "plt.scatter(\n",
    "    get(0, [x for j, x in enumerate(X) if Y[j] > 0]),\n",
    "    get(1, [x for j, x in enumerate(X) if Y[j] > 0]),\n",
    "    color='red'\n",
    ")\n",
    "plt.scatter(\n",
    "    get(0, [x for j, x in enumerate(X) if Y[j] < 0]),\n",
    "    get(1, [x for j, x in enumerate(X) if Y[j] < 0]),\n",
    "    color='blue'\n",
    ")\n",
    "plt.show()\n",
    "plt.clf()"
   ]
  },
  {
   "cell_type": "markdown",
   "metadata": {},
   "source": [
    "## Low gamma"
   ]
  },
  {
   "cell_type": "code",
   "execution_count": 15,
   "metadata": {},
   "outputs": [
    {
     "data": {
      "image/png": "[encoded data removed]",
      "text/plain": [
       "<Figure size 432x288 with 1 Axes>"
      ]
     },
     "metadata": {
      "needs_background": "light"
     },
     "output_type": "display_data"
    },
    {
     "data": {
      "text/plain": [
       "<Figure size 432x288 with 0 Axes>"
      ]
     },
     "metadata": {},
     "output_type": "display_data"
    }
   ],
   "source": [
    "X = np.concatenate([np.random.random((50, 2)) * 0.9 + np.array([1, 1]), np.random.random((50,2)) * 0.9 + np.array([2, 2])])\n",
    "Y = np.concatenate([np.ones((50, 1)), np.ones((50, 1)) * -1.0])\n",
    "\n",
    "inputCountPerSample = 100\n",
    "sampleCount = 2\n",
    "gamma = 1\n",
    "\n",
    "rbfModel = RBF.naive_rbf_train(X.flatten(),Y.flatten(),inputCountPerSample,sampleCount,gamma)\n",
    "\n",
    "XToPredict = [[i / 100.0, j / 100.0]for i in range(0, 300) for j in range(0, 300)]\n",
    "YPredicted = [RBF.naive_rbf_classification_predict(rbfModel, x) for x in XToPredict]\n",
    "\n",
    "def get(i, l):\n",
    "    return [z[i] for z in l]\n",
    "\n",
    "yellow = []\n",
    "purple = []\n",
    "\n",
    "for i, val in enumerate(YPredicted):\n",
    "    if YPredicted[i] >= 0:\n",
    "        purple.append(XToPredict[i])\n",
    "    else:\n",
    "        yellow.append(XToPredict[i])\n",
    "        \n",
    "plt.scatter(\n",
    "    get(0, yellow),\n",
    "    get(1, yellow),\n",
    "    color=\"lightblue\"\n",
    ")\n",
    "plt.scatter(\n",
    "    get(0, purple),\n",
    "    get(1, purple),\n",
    "    color=\"tomato\"\n",
    ")\n",
    "plt.scatter(\n",
    "    get(0, [x for j, x in enumerate(X) if Y[j] > 0]),\n",
    "    get(1, [x for j, x in enumerate(X) if Y[j] > 0]),\n",
    "    color='red'\n",
    ")\n",
    "plt.scatter(\n",
    "    get(0, [x for j, x in enumerate(X) if Y[j] < 0]),\n",
    "    get(1, [x for j, x in enumerate(X) if Y[j] < 0]),\n",
    "    color='blue'\n",
    ")\n",
    "plt.show()\n",
    "plt.clf()"
   ]
  },
  {
   "cell_type": "markdown",
   "metadata": {},
   "source": [
    "# XOR"
   ]
  },
  {
   "cell_type": "markdown",
   "metadata": {},
   "source": [
    "## Low gamma"
   ]
  },
  {
   "cell_type": "code",
   "execution_count": 16,
   "metadata": {},
   "outputs": [
    {
     "data": {
      "image/png": "[encoded data removed]",
      "text/plain": [
       "<Figure size 432x288 with 1 Axes>"
      ]
     },
     "metadata": {
      "needs_background": "light"
     },
     "output_type": "display_data"
    },
    {
     "data": {
      "text/plain": [
       "<Figure size 432x288 with 0 Axes>"
      ]
     },
     "metadata": {},
     "output_type": "display_data"
    }
   ],
   "source": [
    "X = np.array([[0, 0], [1, 0], [0, 1], [1, 1]])\n",
    "Y = np.array([1, -1, -1, 1])\n",
    "\n",
    "inputCountPerSample = 4\n",
    "sampleCount = 2\n",
    "gamma = 1\n",
    "\n",
    "rbfModel = RBF.naive_rbf_train(X.flatten(),Y.flatten(),inputCountPerSample,sampleCount,gamma)\n",
    "\n",
    "XToPredict = [[i / 100.0, j / 100.0]for i in range(0, 100) for j in range(0, 100)]\n",
    "YPredicted = [RBF.naive_rbf_classification_predict(rbfModel, x) for x in XToPredict]\n",
    "\n",
    "yellow = []\n",
    "purple = []\n",
    "for i, val in enumerate(YPredicted):\n",
    "    if YPredicted[i] >= 0:\n",
    "        purple.append(XToPredict[i])\n",
    "    else:\n",
    "        yellow.append(XToPredict[i])\n",
    "        \n",
    "plt.scatter(\n",
    "    get(0, yellow),\n",
    "    get(1, yellow),\n",
    "    color=\"lightblue\"\n",
    ")\n",
    "plt.scatter(\n",
    "    get(0, purple),\n",
    "    get(1, purple),\n",
    "    color=\"tomato\"\n",
    ")\n",
    "plt.scatter(\n",
    "    get(0, [x for j, x in enumerate(X) if Y[j] > 0]),\n",
    "    get(1, [x for j, x in enumerate(X) if Y[j] > 0]),\n",
    "    color='red'\n",
    ")\n",
    "plt.scatter(\n",
    "    get(0, [x for j, x in enumerate(X) if Y[j] < 0]),\n",
    "    get(1, [x for j, x in enumerate(X) if Y[j] < 0]),\n",
    "    color='blue'\n",
    ")\n",
    "plt.show()\n",
    "plt.clf()"
   ]
  },
  {
   "cell_type": "markdown",
   "metadata": {},
   "source": [
    "## High gamma"
   ]
  },
  {
   "cell_type": "code",
   "execution_count": 17,
   "metadata": {},
   "outputs": [
    {
     "data": {
      "image/png": "[encoded data removed]",
      "text/plain": [
       "<Figure size 432x288 with 1 Axes>"
      ]
     },
     "metadata": {
      "needs_background": "light"
     },
     "output_type": "display_data"
    },
    {
     "data": {
      "text/plain": [
       "<Figure size 432x288 with 0 Axes>"
      ]
     },
     "metadata": {},
     "output_type": "display_data"
    }
   ],
   "source": [
    "X = np.array([[0, 0], [1, 0], [0, 1], [1, 1]])\n",
    "Y = np.array([1, -1, -1, 1])\n",
    "\n",
    "inputCountPerSample = 4\n",
    "sampleCount = 2\n",
    "gamma = 900\n",
    "\n",
    "rbfModel = RBF.naive_rbf_train(X.flatten(),Y.flatten(),inputCountPerSample,sampleCount,gamma)\n",
    "\n",
    "XToPredict = [[i / 100.0, j / 100.0]for i in range(0, 100) for j in range(0, 100)]\n",
    "YPredicted = [RBF.naive_rbf_classification_predict(rbfModel, x) for x in XToPredict]\n",
    "\n",
    "yellow = []\n",
    "purple = []\n",
    "for i, val in enumerate(YPredicted):\n",
    "    if YPredicted[i] >= 0:\n",
    "        purple.append(XToPredict[i])\n",
    "    else:\n",
    "        yellow.append(XToPredict[i])\n",
    "        \n",
    "plt.scatter(\n",
    "    get(0, yellow),\n",
    "    get(1, yellow),\n",
    "    color=\"lightblue\"\n",
    ")\n",
    "plt.scatter(\n",
    "    get(0, purple),\n",
    "    get(1, purple),\n",
    "    color=\"tomato\"\n",
    ")\n",
    "plt.scatter(\n",
    "    get(0, [x for j, x in enumerate(X) if Y[j] > 0]),\n",
    "    get(1, [x for j, x in enumerate(X) if Y[j] > 0]),\n",
    "    color='red'\n",
    ")\n",
    "plt.scatter(\n",
    "    get(0, [x for j, x in enumerate(X) if Y[j] < 0]),\n",
    "    get(1, [x for j, x in enumerate(X) if Y[j] < 0]),\n",
    "    color='blue'\n",
    ")\n",
    "plt.show()\n",
    "plt.clf()"
   ]
  },
  {
   "cell_type": "markdown",
   "metadata": {},
   "source": [
    "# Cross"
   ]
  },
  {
   "cell_type": "markdown",
   "metadata": {},
   "source": [
    "## Medium gamma"
   ]
  },
  {
   "cell_type": "code",
   "execution_count": 23,
   "metadata": {},
   "outputs": [
    {
     "data": {
      "image/png": "[encoded data removed]",
      "text/plain": [
       "<Figure size 432x288 with 1 Axes>"
      ]
     },
     "metadata": {
      "needs_background": "light"
     },
     "output_type": "display_data"
    },
    {
     "data": {
      "text/plain": [
       "<Figure size 432x288 with 0 Axes>"
      ]
     },
     "metadata": {},
     "output_type": "display_data"
    }
   ],
   "source": [
    "X = np.random.random((500, 2)) * 2.0 - 1.0\n",
    "Y = np.array([1 if abs(p[0]) <= 0.3 or abs(p[1]) <= 0.3 else -1 for p in X])\n",
    "\n",
    "inputCounterPerSample = 250\n",
    "sampleCount = 2\n",
    "gamma = 100\n",
    "\n",
    "rbfModel = RBF.naive_rbf_train(X.flatten(),Y.flatten(),inputCountPerSample,sampleCount,gamma)\n",
    "\n",
    "XToPredict = [[i / 100.0, j / 100.0]for i in range(-100, 100) for j in range(-100, 100)]\n",
    "YPredicted = [RBF.naive_rbf_classification_predict(rbfModel, x) for x in XToPredict]\n",
    "\n",
    "yellow = []\n",
    "purple = []\n",
    "for i, val in enumerate(YPredicted):\n",
    "    if YPredicted[i] >= 0:\n",
    "        purple.append(XToPredict[i])\n",
    "    else:\n",
    "        yellow.append(XToPredict[i])\n",
    "        \n",
    "plt.scatter(\n",
    "    get(0, yellow),\n",
    "    get(1, yellow),\n",
    "    color=\"tomato\"\n",
    ")\n",
    "plt.scatter(\n",
    "    get(0, purple),\n",
    "    get(1, purple),\n",
    "    color=\"lightblue\"\n",
    ")\n",
    "plt.scatter(\n",
    "    get(0, [x for j, x in enumerate(X) if Y[j] < 0]),\n",
    "    get(1, [x for j, x in enumerate(X) if Y[j] < 0]),\n",
    "    color='red'\n",
    ")\n",
    "plt.scatter(\n",
    "    get(0, [x for j, x in enumerate(X) if Y[j] > 0]),\n",
    "    get(1, [x for j, x in enumerate(X) if Y[j] > 0]),\n",
    "    color='blue'\n",
    ")\n",
    "plt.show()\n",
    "plt.clf()"
   ]
  },
  {
   "cell_type": "markdown",
   "metadata": {},
   "source": [
    "## High gamma"
   ]
  },
  {
   "cell_type": "code",
   "execution_count": 24,
   "metadata": {},
   "outputs": [
    {
     "data": {
      "image/png": "[encoded data removed]",
      "text/plain": [
       "<Figure size 432x288 with 1 Axes>"
      ]
     },
     "metadata": {
      "needs_background": "light"
     },
     "output_type": "display_data"
    },
    {
     "data": {
      "text/plain": [
       "<Figure size 432x288 with 0 Axes>"
      ]
     },
     "metadata": {},
     "output_type": "display_data"
    }
   ],
   "source": [
    "X = np.random.random((500, 2)) * 2.0 - 1.0\n",
    "Y = np.array([1 if abs(p[0]) <= 0.3 or abs(p[1]) <= 0.3 else -1 for p in X])\n",
    "\n",
    "inputCounterPerSample = 250\n",
    "sampleCount = 2\n",
    "gamma = 500\n",
    "\n",
    "rbfModel = RBF.naive_rbf_train(X.flatten(),Y.flatten(),inputCountPerSample,sampleCount,gamma)\n",
    "\n",
    "XToPredict = [[i / 100.0, j / 100.0]for i in range(-100, 100) for j in range(-100, 100)]\n",
    "YPredicted = [RBF.naive_rbf_classification_predict(rbfModel, x) for x in XToPredict]\n",
    "\n",
    "yellow = []\n",
    "purple = []\n",
    "for i, val in enumerate(YPredicted):\n",
    "    if YPredicted[i] >= 0:\n",
    "        purple.append(XToPredict[i])\n",
    "    else:\n",
    "        yellow.append(XToPredict[i])\n",
    "        \n",
    "plt.scatter(\n",
    "    get(0, yellow),\n",
    "    get(1, yellow),\n",
    "    color=\"tomato\"\n",
    ")\n",
    "plt.scatter(\n",
    "    get(0, purple),\n",
    "    get(1, purple),\n",
    "    color=\"lightblue\"\n",
    ")\n",
    "plt.scatter(\n",
    "    get(0, [x for j, x in enumerate(X) if Y[j] < 0]),\n",
    "    get(1, [x for j, x in enumerate(X) if Y[j] < 0]),\n",
    "    color='red'\n",
    ")\n",
    "plt.scatter(\n",
    "    get(0, [x for j, x in enumerate(X) if Y[j] > 0]),\n",
    "    get(1, [x for j, x in enumerate(X) if Y[j] > 0]),\n",
    "    color='blue'\n",
    ")\n",
    "plt.show()\n",
    "plt.clf()"
   ]
  },
  {
   "cell_type": "markdown",
   "metadata": {},
   "source": [
    "# Multi Class"
   ]
  },
  {
   "cell_type": "code",
   "execution_count": 20,
   "metadata": {},
   "outputs": [],
   "source": [
    "X = np.random.random((500, 2)) * 2.0 - 1.0\n",
    "Y = np.array([ [1, -1, -1] if -p[0] - p[1] - 0.5 > 0 and p[1] < 0 and p[0] - p[1] - 0.5 < 0 else \n",
    "              [-1, 1, -1] if -p[0] - p[1] - 0.5 < 0 and p[1] > 0 and p[0] - p[1] - 0.5 < 0 else \n",
    "              [-1, -1, 1] if -p[0] - p[1] - 0.5 < 0 and p[1] < 0 and p[0] - p[1] - 0.5 > 0 else \n",
    "              [-1, -1, -1] for p in X ])\n",
    "\n",
    "inputCountPerSample = 250\n",
    "sampleCount = 2\n",
    "gamma = 100\n",
    "\n",
    "rbfModel = RBF.naive_rbf_train(X.flatten(),Y.flatten(),inputCountPerSample,sampleCount,gamma)\n",
    "\n",
    "XToPredict = [\n",
    "    [i / 100.0, j / 100.0]\n",
    "    for i in range(-150, 150) for j in range(-150, 150)\n",
    "]\n",
    "YPredicted = [RBF.naive_rbf_classification_predict(rbfModel, x) for x in XToPredict]\n",
    "\n"
   ]
  },
  {
   "cell_type": "code",
   "execution_count": 21,
   "metadata": {},
   "outputs": [],
   "source": [
    "XX = X\n",
    "YY = Y"
   ]
  },
  {
   "cell_type": "code",
   "execution_count": 22,
   "metadata": {},
   "outputs": [
    {
     "ename": "ValueError",
     "evalue": "The truth value of an array with more than one element is ambiguous. Use a.any() or a.all()",
     "output_type": "error",
     "traceback": [
      "\u001b[0;31m---------------------------------------------------------------------------\u001b[0m",
      "\u001b[0;31mValueError\u001b[0m                                Traceback (most recent call last)",
      "\u001b[0;32m<ipython-input-22-9c3a9c4b6748>\u001b[0m in \u001b[0;36m<module>\u001b[0;34m\u001b[0m\n\u001b[1;32m     37\u001b[0m \u001b[0;34m\u001b[0m\u001b[0m\n\u001b[1;32m     38\u001b[0m plt.scatter(\n\u001b[0;32m---> 39\u001b[0;31m     \u001b[0mget\u001b[0m\u001b[0;34m(\u001b[0m\u001b[0;36m0\u001b[0m\u001b[0;34m,\u001b[0m \u001b[0;34m[\u001b[0m\u001b[0mx\u001b[0m \u001b[0;32mfor\u001b[0m \u001b[0mj\u001b[0m\u001b[0;34m,\u001b[0m \u001b[0mx\u001b[0m \u001b[0;32min\u001b[0m \u001b[0menumerate\u001b[0m\u001b[0;34m(\u001b[0m\u001b[0mXX\u001b[0m\u001b[0;34m)\u001b[0m \u001b[0;32mif\u001b[0m \u001b[0mYY\u001b[0m\u001b[0;34m[\u001b[0m\u001b[0mj\u001b[0m\u001b[0;34m]\u001b[0m \u001b[0;34m==\u001b[0m \u001b[0;34m[\u001b[0m\u001b[0;36m1\u001b[0m\u001b[0;34m,\u001b[0m \u001b[0;34m-\u001b[0m\u001b[0;36m1\u001b[0m\u001b[0;34m,\u001b[0m \u001b[0;34m-\u001b[0m\u001b[0;36m1\u001b[0m\u001b[0;34m]\u001b[0m \u001b[0;34m]\u001b[0m\u001b[0;34m)\u001b[0m\u001b[0;34m,\u001b[0m\u001b[0;34m\u001b[0m\u001b[0;34m\u001b[0m\u001b[0m\n\u001b[0m\u001b[1;32m     40\u001b[0m     \u001b[0mget\u001b[0m\u001b[0;34m(\u001b[0m\u001b[0;36m1\u001b[0m\u001b[0;34m,\u001b[0m \u001b[0;34m[\u001b[0m\u001b[0mx\u001b[0m \u001b[0;32mfor\u001b[0m \u001b[0mj\u001b[0m\u001b[0;34m,\u001b[0m \u001b[0mx\u001b[0m \u001b[0;32min\u001b[0m \u001b[0menumerate\u001b[0m\u001b[0;34m(\u001b[0m\u001b[0mXX\u001b[0m\u001b[0;34m)\u001b[0m \u001b[0;32mif\u001b[0m \u001b[0mYY\u001b[0m\u001b[0;34m[\u001b[0m\u001b[0mj\u001b[0m\u001b[0;34m]\u001b[0m \u001b[0;34m==\u001b[0m \u001b[0;34m[\u001b[0m\u001b[0;36m1\u001b[0m\u001b[0;34m,\u001b[0m \u001b[0;34m-\u001b[0m\u001b[0;36m1\u001b[0m\u001b[0;34m,\u001b[0m \u001b[0;34m-\u001b[0m\u001b[0;36m1\u001b[0m\u001b[0;34m]\u001b[0m \u001b[0;34m]\u001b[0m\u001b[0;34m)\u001b[0m\u001b[0;34m,\u001b[0m\u001b[0;34m\u001b[0m\u001b[0;34m\u001b[0m\u001b[0m\n\u001b[1;32m     41\u001b[0m     \u001b[0mcolor\u001b[0m\u001b[0;34m=\u001b[0m\u001b[0;34m'red'\u001b[0m\u001b[0;34m\u001b[0m\u001b[0;34m\u001b[0m\u001b[0m\n",
      "\u001b[0;32m<ipython-input-22-9c3a9c4b6748>\u001b[0m in \u001b[0;36m<listcomp>\u001b[0;34m(.0)\u001b[0m\n\u001b[1;32m     37\u001b[0m \u001b[0;34m\u001b[0m\u001b[0m\n\u001b[1;32m     38\u001b[0m plt.scatter(\n\u001b[0;32m---> 39\u001b[0;31m     \u001b[0mget\u001b[0m\u001b[0;34m(\u001b[0m\u001b[0;36m0\u001b[0m\u001b[0;34m,\u001b[0m \u001b[0;34m[\u001b[0m\u001b[0mx\u001b[0m \u001b[0;32mfor\u001b[0m \u001b[0mj\u001b[0m\u001b[0;34m,\u001b[0m \u001b[0mx\u001b[0m \u001b[0;32min\u001b[0m \u001b[0menumerate\u001b[0m\u001b[0;34m(\u001b[0m\u001b[0mXX\u001b[0m\u001b[0;34m)\u001b[0m \u001b[0;32mif\u001b[0m \u001b[0mYY\u001b[0m\u001b[0;34m[\u001b[0m\u001b[0mj\u001b[0m\u001b[0;34m]\u001b[0m \u001b[0;34m==\u001b[0m \u001b[0;34m[\u001b[0m\u001b[0;36m1\u001b[0m\u001b[0;34m,\u001b[0m \u001b[0;34m-\u001b[0m\u001b[0;36m1\u001b[0m\u001b[0;34m,\u001b[0m \u001b[0;34m-\u001b[0m\u001b[0;36m1\u001b[0m\u001b[0;34m]\u001b[0m \u001b[0;34m]\u001b[0m\u001b[0;34m)\u001b[0m\u001b[0;34m,\u001b[0m\u001b[0;34m\u001b[0m\u001b[0;34m\u001b[0m\u001b[0m\n\u001b[0m\u001b[1;32m     40\u001b[0m     \u001b[0mget\u001b[0m\u001b[0;34m(\u001b[0m\u001b[0;36m1\u001b[0m\u001b[0;34m,\u001b[0m \u001b[0;34m[\u001b[0m\u001b[0mx\u001b[0m \u001b[0;32mfor\u001b[0m \u001b[0mj\u001b[0m\u001b[0;34m,\u001b[0m \u001b[0mx\u001b[0m \u001b[0;32min\u001b[0m \u001b[0menumerate\u001b[0m\u001b[0;34m(\u001b[0m\u001b[0mXX\u001b[0m\u001b[0;34m)\u001b[0m \u001b[0;32mif\u001b[0m \u001b[0mYY\u001b[0m\u001b[0;34m[\u001b[0m\u001b[0mj\u001b[0m\u001b[0;34m]\u001b[0m \u001b[0;34m==\u001b[0m \u001b[0;34m[\u001b[0m\u001b[0;36m1\u001b[0m\u001b[0;34m,\u001b[0m \u001b[0;34m-\u001b[0m\u001b[0;36m1\u001b[0m\u001b[0;34m,\u001b[0m \u001b[0;34m-\u001b[0m\u001b[0;36m1\u001b[0m\u001b[0;34m]\u001b[0m \u001b[0;34m]\u001b[0m\u001b[0;34m)\u001b[0m\u001b[0;34m,\u001b[0m\u001b[0;34m\u001b[0m\u001b[0;34m\u001b[0m\u001b[0m\n\u001b[1;32m     41\u001b[0m     \u001b[0mcolor\u001b[0m\u001b[0;34m=\u001b[0m\u001b[0;34m'red'\u001b[0m\u001b[0;34m\u001b[0m\u001b[0;34m\u001b[0m\u001b[0m\n",
      "\u001b[0;31mValueError\u001b[0m: The truth value of an array with more than one element is ambiguous. Use a.any() or a.all()"
     ]
    },
    {
     "data": {
      "image/png": "[encoded data removed]",
      "text/plain": [
       "<Figure size 432x288 with 1 Axes>"
      ]
     },
     "metadata": {
      "needs_background": "light"
     },
     "output_type": "display_data"
    }
   ],
   "source": [
    "def get(i, l):\n",
    "    return [z[i] for z in l]\n",
    "\n",
    "def chunks(l, n):\n",
    "    return [l[i:i+n] for i in range(0, len(l), n)]\n",
    "\n",
    "res = chunks(YPredicted,3)\n",
    "YPred2 = res\n",
    "\n",
    "yellow = []\n",
    "purple = []\n",
    "brown = []\n",
    "\n",
    "for i, val in enumerate(YPred2):\n",
    "    if YPred2[i][0] == 1 :\n",
    "        yellow.append(XToPredict[i])\n",
    "    elif YPred2[i][1] == 1 :\n",
    "        brown.append(XToPredict[i])\n",
    "    elif YPred2[i][2] == 1 :\n",
    "        purple.append(XToPredict[i])\n",
    "\n",
    "plt.scatter(\n",
    "    get(0, yellow),\n",
    "    get(1, yellow),\n",
    "    color=\"yellow\"\n",
    ")\n",
    "plt.scatter(\n",
    "    get(0, purple),\n",
    "    get(1, purple),\n",
    "    color=\"violet\"\n",
    ")\n",
    "plt.scatter(\n",
    "    get(0, brown),\n",
    "    get(1, brown),\n",
    "    color=\"brown\"\n",
    ")\n",
    "\n",
    "plt.scatter(\n",
    "    get(0, [x for j, x in enumerate(XX) if YY[j] == [1, -1, -1] ]),\n",
    "    get(1, [x for j, x in enumerate(XX) if YY[j] == [1, -1, -1] ]),\n",
    "    color='red'\n",
    ")\n",
    "plt.scatter(\n",
    "    get(0, [x for j, x in enumerate(XX) if YY[j] == [-1, 1, -1] ]),\n",
    "    get(1, [x for j, x in enumerate(XX) if YY[j] == [-1, 1, -1] ]),\n",
    "    color='green'\n",
    ")\n",
    "plt.scatter(\n",
    "    get(0, [x for j, x in enumerate(XX) if YY[j] == [-1, -1, 1] ]),\n",
    "    get(1, [x for j, x in enumerate(XX) if YY[j] == [-1, -1, 1] ]),\n",
    "    color='blue'\n",
    ")\n",
    "plt.show()\n",
    "plt.clf()"
   ]
  },
  {
   "cell_type": "markdown",
   "metadata": {},
   "source": [
    "### "
   ]
  },
  {
   "cell_type": "code",
   "execution_count": null,
   "metadata": {},
   "outputs": [],
   "source": []
  }
 ],
 "metadata": {
  "kernelspec": {
   "display_name": "Python 3",
   "language": "python",
   "name": "python3"
  },
  "language_info": {
   "codemirror_mode": {
    "name": "ipython",
    "version": 3
   },
   "file_extension": ".py",
   "mimetype": "text/x-python",
   "name": "python",
   "nbconvert_exporter": "python",
   "pygments_lexer": "ipython3",
   "version": "3.6.8"
  }
 },
 "nbformat": 4,
 "nbformat_minor": 1
}
